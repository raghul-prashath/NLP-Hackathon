{
 "cells": [
  {
   "cell_type": "markdown",
   "metadata": {},
   "source": [
    "IMPORT LIBRARIES AND DATA PREPROCESSING"
   ]
  },
  {
   "cell_type": "code",
   "execution_count": 39,
   "metadata": {},
   "outputs": [],
   "source": [
    "import pandas as pd\n",
    "import zipfile\n",
    "import regex as re\n",
    "from os import listdir"
   ]
  },
  {
   "cell_type": "code",
   "execution_count": 31,
   "metadata": {},
   "outputs": [
    {
     "name": "stdout",
     "output_type": "stream",
     "text": [
      "  % Total    % Received % Xferd  Average Speed   Time    Time     Time  Current\n",
      "                                 Dload  Upload   Total   Spent    Left  Speed\n",
      "100 65220  100 65220    0     0  24940      0  0:00:02  0:00:02 --:--:-- 24931\n",
      "rm: -r: No such file or directory\n"
     ]
    }
   ],
   "source": [
    "!curl -O https://md-datasets-cache-zipfiles-prod.s3.eu-west-1.amazonaws.com/7zbk8zsd8y-1.zip\n",
    "with zipfile.ZipFile(\"7zbk8zsd8y-1.zip\") as zip_ref:\n",
    "    zip_ref.extractall(\"dataset/\")\n",
    "!rm 7zbk8zsd8y-1.zip -r"
   ]
  },
  {
   "cell_type": "code",
   "execution_count": 69,
   "metadata": {},
   "outputs": [],
   "source": [
    "allData = []\n",
    "#Listing all the datasets\n",
    "for paths in listdir('dataset/'):\n",
    "    with open('dataset/' + paths, 'rb') as readFile:\n",
    "        data = readFile.read()\n",
    "        allData.append(data)\n"
   ]
  },
  {
   "cell_type": "code",
   "execution_count": 71,
   "metadata": {},
   "outputs": [],
   "source": [
    "for i in range(len(allData)):\n",
    "  allData[i] = allData[i].decode('latin-1')"
   ]
  },
  {
   "cell_type": "code",
   "execution_count": 77,
   "metadata": {},
   "outputs": [
    {
     "data": {
      "text/plain": [
       "1742"
      ]
     },
     "execution_count": 77,
     "metadata": {},
     "output_type": "execute_result"
    }
   ],
   "source": [
    "#Combining all the files\n",
    "txt = \"\\n\".join(allData)\n",
    "data = txt.splitlines()\n",
    "len(data)"
   ]
  },
  {
   "cell_type": "markdown",
   "metadata": {},
   "source": [
    "DATA PROCESSING"
   ]
  },
  {
   "cell_type": "code",
   "execution_count": 78,
   "metadata": {},
   "outputs": [],
   "source": [
    "#Storing into dataset.txt by joining all the textfields.\n",
    "with open(\"dataset.txt\", \"w\") as file:\n",
    "    file.write(\"\\n\".join(data))\n",
    "     "
   ]
  },
  {
   "cell_type": "code",
   "execution_count": 143,
   "metadata": {},
   "outputs": [
    {
     "name": "stdout",
     "output_type": "stream",
     "text": [
      "1742\n"
     ]
    },
    {
     "data": {
      "text/plain": [
       "['As a repository manager, I want to know all the collections and objects in the DAMS for which I have custodial responsibility. ',\n",
       " 'As a repository manager, I want to be able to update repository information in one place and be assured updates will be propagated to all relevant places. ',\n",
       " 'As a repository manager, I want to constrain curatorial access to my units assets to staff members of my unit and to DAMS managers having universal access. ',\n",
       " 'As a user, I want to list all the collections and objects in the DAMS that belong to a library unit. ',\n",
       " 'As a user, I want to be able to contact repositories. ']"
      ]
     },
     "execution_count": 143,
     "metadata": {},
     "output_type": "execute_result"
    }
   ],
   "source": [
    "data = \"\"\n",
    "\n",
    "#Read from dataset.txt\n",
    "with open(\"dataset.txt\", \"r\") as file:\n",
    "    txt = file.read()\n",
    "    data = txt.splitlines()\n",
    "    print(len(data))\n",
    "\n",
    "data[:5]"
   ]
  },
  {
   "cell_type": "code",
   "execution_count": 144,
   "metadata": {},
   "outputs": [],
   "source": [
    "#Storage - Dataframe - Defining the structure\n",
    "df = pd.DataFrame(columns = [\"Stakeholders\", \"Stories\"])"
   ]
  },
  {
   "cell_type": "code",
   "execution_count": 145,
   "metadata": {},
   "outputs": [],
   "source": [
    "#Removing as a from the stakeholders\n",
    "shList = []\n",
    "storyList = []\n",
    "for i in data:\n",
    "  i = str(i)\n",
    "  if i!= None: \n",
    "    if re.search(r'As a(?:n)? (.*?)\\,', i):\n",
    "      roles = re.search(r'As a(?:n)? (.*?)\\,', i).group(1)\n",
    "      if re.search(r'\\, (.*?)\\.', i):\n",
    "        story = re.search(r'\\, (.*?)\\.', i).group(1)\n",
    "      else:\n",
    "        story = \"\"\n",
    "    shList.append(roles.title())\n",
    "    storyList.append(story)"
   ]
  },
  {
   "cell_type": "code",
   "execution_count": 146,
   "metadata": {},
   "outputs": [
    {
     "data": {
      "text/html": [
       "<div>\n",
       "<style scoped>\n",
       "    .dataframe tbody tr th:only-of-type {\n",
       "        vertical-align: middle;\n",
       "    }\n",
       "\n",
       "    .dataframe tbody tr th {\n",
       "        vertical-align: top;\n",
       "    }\n",
       "\n",
       "    .dataframe thead th {\n",
       "        text-align: right;\n",
       "    }\n",
       "</style>\n",
       "<table border=\"1\" class=\"dataframe\">\n",
       "  <thead>\n",
       "    <tr style=\"text-align: right;\">\n",
       "      <th></th>\n",
       "      <th>Stakeholders</th>\n",
       "      <th>Stories</th>\n",
       "    </tr>\n",
       "  </thead>\n",
       "  <tbody>\n",
       "    <tr>\n",
       "      <th>0</th>\n",
       "      <td>Repository Manager</td>\n",
       "      <td>I want to know all the collections and objects...</td>\n",
       "    </tr>\n",
       "    <tr>\n",
       "      <th>1</th>\n",
       "      <td>Repository Manager</td>\n",
       "      <td>I want to be able to update repository informa...</td>\n",
       "    </tr>\n",
       "    <tr>\n",
       "      <th>2</th>\n",
       "      <td>Repository Manager</td>\n",
       "      <td>I want to constrain curatorial access to my un...</td>\n",
       "    </tr>\n",
       "    <tr>\n",
       "      <th>3</th>\n",
       "      <td>User</td>\n",
       "      <td>I want to list all the collections and objects...</td>\n",
       "    </tr>\n",
       "    <tr>\n",
       "      <th>4</th>\n",
       "      <td>User</td>\n",
       "      <td>I want to be able to contact repositories</td>\n",
       "    </tr>\n",
       "  </tbody>\n",
       "</table>\n",
       "</div>"
      ],
      "text/plain": [
       "         Stakeholders                                            Stories\n",
       "0  Repository Manager  I want to know all the collections and objects...\n",
       "1  Repository Manager  I want to be able to update repository informa...\n",
       "2  Repository Manager  I want to constrain curatorial access to my un...\n",
       "3                User  I want to list all the collections and objects...\n",
       "4                User          I want to be able to contact repositories"
      ]
     },
     "execution_count": 146,
     "metadata": {},
     "output_type": "execute_result"
    }
   ],
   "source": [
    "#Storing into Dataframe\n",
    "df[\"Stakeholders\"] = shList\n",
    "df[\"Stories\"] = storyList\n",
    "df.head()"
   ]
  },
  {
   "cell_type": "code",
   "execution_count": 147,
   "metadata": {},
   "outputs": [],
   "source": [
    "#Convert to strings to avoid errors\n",
    "df['Stakeholders'] = df['Stakeholders'].astype(str)\n",
    "df['Stories'] = df['Stories'].astype(str)"
   ]
  },
  {
   "cell_type": "code",
   "execution_count": 152,
   "metadata": {},
   "outputs": [],
   "source": [
    "#Aggregating the stakeholders to make stories for each\n",
    "df2 = df.groupby('Stakeholders').agg(\". \".join)\n",
    "df2 = df2.reset_index()"
   ]
  },
  {
   "cell_type": "code",
   "execution_count": 154,
   "metadata": {},
   "outputs": [
    {
     "data": {
      "text/html": [
       "<div>\n",
       "<style scoped>\n",
       "    .dataframe tbody tr th:only-of-type {\n",
       "        vertical-align: middle;\n",
       "    }\n",
       "\n",
       "    .dataframe tbody tr th {\n",
       "        vertical-align: top;\n",
       "    }\n",
       "\n",
       "    .dataframe thead th {\n",
       "        text-align: right;\n",
       "    }\n",
       "</style>\n",
       "<table border=\"1\" class=\"dataframe\">\n",
       "  <thead>\n",
       "    <tr style=\"text-align: right;\">\n",
       "      <th></th>\n",
       "      <th>Stakeholders</th>\n",
       "      <th>Stories</th>\n",
       "    </tr>\n",
       "  </thead>\n",
       "  <tbody>\n",
       "    <tr>\n",
       "      <th>0</th>\n",
       "      <td>Academicpublisher</td>\n",
       "      <td>I want to make persistent web links between my...</td>\n",
       "    </tr>\n",
       "    <tr>\n",
       "      <th>1</th>\n",
       "      <td>Academicresearcher</td>\n",
       "      <td>I want to find the works of a particular autho...</td>\n",
       "    </tr>\n",
       "    <tr>\n",
       "      <th>2</th>\n",
       "      <td>Admin</td>\n",
       "      <td>I want to see, validate and edit segmentation ...</td>\n",
       "    </tr>\n",
       "    <tr>\n",
       "      <th>3</th>\n",
       "      <td>Administrator</td>\n",
       "      <td>I want to create user groups, so that I can co...</td>\n",
       "    </tr>\n",
       "    <tr>\n",
       "      <th>4</th>\n",
       "      <td>Advertiser</td>\n",
       "      <td>I want to be emailed a reminder seven day befo...</td>\n",
       "    </tr>\n",
       "  </tbody>\n",
       "</table>\n",
       "</div>"
      ],
      "text/plain": [
       "         Stakeholders                                            Stories\n",
       "0   Academicpublisher  I want to make persistent web links between my...\n",
       "1  Academicresearcher  I want to find the works of a particular autho...\n",
       "2               Admin  I want to see, validate and edit segmentation ...\n",
       "3       Administrator  I want to create user groups, so that I can co...\n",
       "4          Advertiser  I want to be emailed a reminder seven day befo..."
      ]
     },
     "execution_count": 154,
     "metadata": {},
     "output_type": "execute_result"
    }
   ],
   "source": [
    "#Displaying the result of First Problem\n",
    "df2.head()"
   ]
  }
 ],
 "metadata": {
  "interpreter": {
   "hash": "5fe74e818484b305a399157f86583673fcff808cde2cbb6cb0f427d8c3968d39"
  },
  "kernelspec": {
   "display_name": "Python 3.8.5 ('base')",
   "language": "python",
   "name": "python3"
  },
  "language_info": {
   "codemirror_mode": {
    "name": "ipython",
    "version": 3
   },
   "file_extension": ".py",
   "mimetype": "text/x-python",
   "name": "python",
   "nbconvert_exporter": "python",
   "pygments_lexer": "ipython3",
   "version": "3.8.5"
  },
  "orig_nbformat": 4
 },
 "nbformat": 4,
 "nbformat_minor": 2
}
